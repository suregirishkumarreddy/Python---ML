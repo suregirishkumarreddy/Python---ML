{
 "cells": [
  {
   "cell_type": "markdown",
   "metadata": {},
   "source": [
    "# Task 1.1.1 - Write a Python Program to implement your own myreduce() function which works exactly like Python's built-in function reduce()"
   ]
  },
  {
   "cell_type": "code",
   "execution_count": 17,
   "metadata": {},
   "outputs": [
    {
     "data": {
      "text/plain": [
       "1342"
      ]
     },
     "execution_count": 17,
     "metadata": {},
     "output_type": "execute_result"
    }
   ],
   "source": [
    "# This program is equivalent to the below reduce() function logic\n",
    "# reduce(lambda x,y: x if x>y else y,num_list)\n",
    "\n",
    "#This function returns the maximum value between the two values passed\n",
    "def max_val(a,b):\n",
    "    if a > b:\n",
    "        return a\n",
    "    else:\n",
    "        return b\n",
    "\n",
    "# This function takes the function name, to call, and the list of values, to perform the function on\n",
    "def my_reduce(func,seq):\n",
    "    result = 0\n",
    "    for i in seq:\n",
    "        result = func(result,i)\n",
    "    return result\n",
    "    \n",
    "num_list = [0,4,5,3,1,76,35,978,1342,543,43,12,2]\n",
    "\n",
    "my_reduce(max_val,num_list)"
   ]
  },
  {
   "cell_type": "markdown",
   "metadata": {},
   "source": [
    "# Task 1.1.2 - Write a Python program to implement your own myfilter() function which works exactly like Python's built-in function filter()"
   ]
  },
  {
   "cell_type": "code",
   "execution_count": 18,
   "metadata": {},
   "outputs": [
    {
     "data": {
      "text/plain": [
       "[5, 10, 15, 20, 25, 30, 35, 40, 45, 50, 55, 60, 65, 70, 75, 80, 85, 90, 95]"
      ]
     },
     "execution_count": 18,
     "metadata": {},
     "output_type": "execute_result"
    }
   ],
   "source": [
    "# This program returns the list of numbers divisble by 5\n",
    "# Similar to - list(filter(lambda i: i%5 == 0,range(1,100)))\n",
    "\n",
    "# This function verifies the input number is divisble by 5 or not\n",
    "def div_by_5(num):\n",
    "    if num%5 == 0:\n",
    "        return True\n",
    "    else:\n",
    "        return False\n",
    "\n",
    "# Accepts the function name, to call and a list, to apply the function on\n",
    "# Returns a list of numbers satisfying the condition return in function passed\n",
    "def my_filter(func,seq):\n",
    "    out_list = []\n",
    "    for i in seq:\n",
    "        if func(i):\n",
    "            out_list.append(i)\n",
    "    return out_list\n",
    "    \n",
    "num_list = range(1,100)\n",
    "\n",
    "my_filter(div_by_5,num_list)"
   ]
  },
  {
   "cell_type": "markdown",
   "metadata": {},
   "source": [
    "# Task 1.2 - Implement List comprehensions to produce the following lists."
   ]
  },
  {
   "cell_type": "markdown",
   "metadata": {},
   "source": [
    "# (a) - ['A', 'C', 'A', 'D', 'G', 'I', ’L’, ‘ D’]"
   ]
  },
  {
   "cell_type": "code",
   "execution_count": 3,
   "metadata": {},
   "outputs": [
    {
     "data": {
      "text/plain": [
       "['A', 'C', 'A', 'D', 'G', 'I', 'L', 'D']"
      ]
     },
     "execution_count": 3,
     "metadata": {},
     "output_type": "execute_result"
    }
   ],
   "source": [
    "[i for i in 'ACADGILD']"
   ]
  },
  {
   "cell_type": "markdown",
   "metadata": {},
   "source": [
    "# (b) - ['x', 'xx', 'xxx', 'xxxx', 'y', 'yy', 'yyy', 'yyyy', 'z', 'zz', 'zzz', 'zzzz']"
   ]
  },
  {
   "cell_type": "code",
   "execution_count": 4,
   "metadata": {},
   "outputs": [
    {
     "data": {
      "text/plain": [
       "['x', 'xx', 'xxx', 'xxxx', 'y', 'yy', 'yyy', 'yyyy', 'z', 'zz', 'zzz', 'zzzz']"
      ]
     },
     "execution_count": 4,
     "metadata": {},
     "output_type": "execute_result"
    }
   ],
   "source": [
    "[i*(j+1) for i in ['x','y','z'] for j in range(4)]"
   ]
  },
  {
   "cell_type": "markdown",
   "metadata": {},
   "source": [
    "# (c) - ['x', 'y', 'z', 'xx', 'yy', 'zz', 'xxx', 'yyy', 'zzz', 'xxxx', 'yyyy', 'zzzz']"
   ]
  },
  {
   "cell_type": "code",
   "execution_count": 2,
   "metadata": {},
   "outputs": [
    {
     "data": {
      "text/plain": [
       "['x', 'y', 'z', 'xx', 'yy', 'zz', 'xxx', 'yyy', 'zzz', 'xxxx', 'yyyy', 'zzzz']"
      ]
     },
     "execution_count": 2,
     "metadata": {},
     "output_type": "execute_result"
    }
   ],
   "source": [
    "[j*(i+1) for i in range(4) for j in ['x','y','z']]"
   ]
  },
  {
   "cell_type": "markdown",
   "metadata": {},
   "source": [
    "# (d) - [[2], [3], [4], [3], [4], [5], [4], [5], [6]]"
   ]
  },
  {
   "cell_type": "code",
   "execution_count": 6,
   "metadata": {},
   "outputs": [
    {
     "data": {
      "text/plain": [
       "[[2], [3], [4], [3], [4], [5], [4], [5], [6]]"
      ]
     },
     "execution_count": 6,
     "metadata": {},
     "output_type": "execute_result"
    }
   ],
   "source": [
    "[[j] for i in range(2,5) for j in range(i,i+3)]"
   ]
  },
  {
   "cell_type": "markdown",
   "metadata": {},
   "source": [
    "# (e) - [[2, 3, 4, 5], [3, 4, 5, 6], [4, 5, 6, 7], [5, 6, 7, 8]]"
   ]
  },
  {
   "cell_type": "code",
   "execution_count": 7,
   "metadata": {},
   "outputs": [
    {
     "data": {
      "text/plain": [
       "[[2, 3, 4, 5], [3, 4, 5, 6], [4, 5, 6, 7], [5, 6, 7, 8]]"
      ]
     },
     "execution_count": 7,
     "metadata": {},
     "output_type": "execute_result"
    }
   ],
   "source": [
    "[[i+j for i in range(2,6)] for j in range(4)]"
   ]
  },
  {
   "cell_type": "markdown",
   "metadata": {},
   "source": [
    "# (f) - [(1, 1), (2, 1), (3, 1), (1, 2), (2, 2), (3, 2), (1, 3), (2, 3), (3, 3)]"
   ]
  },
  {
   "cell_type": "code",
   "execution_count": 8,
   "metadata": {},
   "outputs": [
    {
     "data": {
      "text/plain": [
       "[(1, 1), (2, 1), (3, 1), (1, 2), (2, 2), (3, 2), (1, 3), (2, 3), (3, 3)]"
      ]
     },
     "execution_count": 8,
     "metadata": {},
     "output_type": "execute_result"
    }
   ],
   "source": [
    "[(j,i) for i in range(1,4) for j in range(1,4)]"
   ]
  },
  {
   "cell_type": "markdown",
   "metadata": {},
   "source": [
    "# Task 1.3 - Implement a function longestWord() that takes a list of words and returns the longest one."
   ]
  },
  {
   "cell_type": "code",
   "execution_count": 5,
   "metadata": {},
   "outputs": [
    {
     "name": "stdout",
     "output_type": "stream",
     "text": [
      "Longest Word of ['my', 'name', 'is', 'Girish', 'Sure'] is Girish\n"
     ]
    }
   ],
   "source": [
    "# This function identifies the Longest Word of the list passed as input.\n",
    "def longestWord(in_list):\n",
    "    longest_word = ''\n",
    "    \n",
    "    # Traverse through the entire list and store the longest string using the len function on each string.\n",
    "    for i in range(len(in_list)):\n",
    "        if len(longest_word) < len(in_list[i]):\n",
    "            longest_word = in_list[i]\n",
    "    \n",
    "    return longest_word\n",
    "\n",
    "my_list = ['my','name','is','Girish','Sure']\n",
    "\n",
    "print('Longest Word of ' + str(my_list) + ' is ' + longestWord(my_list))"
   ]
  },
  {
   "cell_type": "markdown",
   "metadata": {},
   "source": [
    "#Alternate solution of Task 1.3 - Using reduce() function"
   ]
  },
  {
   "cell_type": "code",
   "execution_count": 14,
   "metadata": {},
   "outputs": [
    {
     "name": "stdout",
     "output_type": "stream",
     "text": [
      "Longest Word of ['my', 'name', 'is', 'Girish', 'Sure'] is Girish\n"
     ]
    }
   ],
   "source": [
    "from functools import reduce\n",
    "longestWord = lambda x,y: x if len(x) > len(y) else y\n",
    "\n",
    "my_list = ['my','name','is','Girish','Sure']\n",
    "\n",
    "print('Longest Word of ' + str(my_list) + ' is ' + reduce(longestWord,my_list))"
   ]
  },
  {
   "cell_type": "markdown",
   "metadata": {},
   "source": [
    "# Task 2.1.1 - Write a Python Program(with class concepts) to find the area of the triangle using the below formula.\n",
    "# area = sqrt(s*(s-a)*(s-b)*(s-c))\n",
    "# Function to take the length of the sides of triangle from user should be defined in the parent class and function to calculate the area should be defined in subclass."
   ]
  },
  {
   "cell_type": "code",
   "execution_count": 16,
   "metadata": {},
   "outputs": [
    {
     "name": "stdout",
     "output_type": "stream",
     "text": [
      "Enter first side if triangle: 3\n",
      "Enter second side if triangle: 4\n",
      "Enter third side if triangle: 5\n",
      "The Area of the Triangle of sides 3.0, 4.0, 5.0 is 6.0.\n"
     ]
    }
   ],
   "source": [
    "# Define a class to accept the values passed and a funtion within to calculate the area of triangle\n",
    "class Area:\n",
    "    def __init__(ptr,a,b,c):\n",
    "        ptr.side_a = a\n",
    "        ptr.side_b = b\n",
    "        ptr.side_c = c\n",
    "        \n",
    "    def triangle(ptr):\n",
    "        s = (ptr.side_a + ptr.side_b + ptr.side_c) / 2\n",
    "        area = (s * (s-ptr.side_a) * (s-ptr.side_b) * (s-ptr.side_c)) ** 0.5\n",
    "        return area\n",
    "\n",
    "# Accept the sides of traingle from user\n",
    "x = float(input('Enter first side if triangle: '))\n",
    "y = float(input('Enter second side if triangle: '))\n",
    "z = float(input('Enter third side if triangle: '))\n",
    "\n",
    "# Define an object to the class Area by passing the sides of triangle\n",
    "area = Area(x,y,z)\n",
    "\n",
    "# Call the function traingle() in the class Area, through the object area\n",
    "area_of_triangle = area.triangle()\n",
    "\n",
    "print('The Area of the Triangle of sides {}, {}, {} is {}.'.format(x,y,z,area_of_triangle))"
   ]
  },
  {
   "cell_type": "markdown",
   "metadata": {},
   "source": [
    "# Task 2.1.2 - Write a function filter_long_words() that takes a list of words and an integer n and returns the list of words that are longer than n."
   ]
  },
  {
   "cell_type": "code",
   "execution_count": 9,
   "metadata": {},
   "outputs": [
    {
     "name": "stdout",
     "output_type": "stream",
     "text": [
      "Words longer than 3 characters is/are ['name', 'Girish', 'Sure']\n"
     ]
    }
   ],
   "source": [
    "# This function returns a list of words longer than the length specified.\n",
    "# This creates a list of words, from input list, longer than the length specified, using list.append.\n",
    "\n",
    "def filter_long_words(in_list,str_length):\n",
    "    out_list = []\n",
    "    for i in range(len(in_list)):\n",
    "        if len(in_list[i]) > str_length:\n",
    "            out_list.append(in_list[i])\n",
    "    return out_list\n",
    "\n",
    "my_list = ['my','name','is','Girish','Sure']\n",
    "string_length = 3\n",
    "\n",
    "print('Words longer than ' + str(string_length) + ' characters is/are ' + str(filter_long_words(my_list,string_length)))"
   ]
  },
  {
   "cell_type": "markdown",
   "metadata": {},
   "source": [
    "#Alternate solution for Task 2.1.2 - using filter() function"
   ]
  },
  {
   "cell_type": "code",
   "execution_count": 10,
   "metadata": {},
   "outputs": [
    {
     "name": "stdout",
     "output_type": "stream",
     "text": [
      "Words longer than 3 characters is/are ['name', 'Girish', 'Sure']\n"
     ]
    }
   ],
   "source": [
    "# This function returns a list of words longer than the length specified.\n",
    "# This creates a list of words, from input list, longer than the length specified, using filter and lambda functions.\n",
    "\n",
    "def filter_long_words(in_list,str_length):\n",
    "    out_list = filter(lambda i: len(i) > str_length, in_list)\n",
    "    return out_list\n",
    "\n",
    "my_list = ['my','name','is','Girish','Sure']\n",
    "string_length = 3\n",
    "\n",
    "print('Words longer than ' + str(string_length) + ' characters is/are ' + str(list(filter_long_words(my_list,string_length))))"
   ]
  },
  {
   "cell_type": "markdown",
   "metadata": {},
   "source": [
    "# Task 2.2.1 - Write a Python program using function concept that maps list of words into a list of integers representing the lengths of the corresponding words .\n",
    "# Hint: If a list [ ab,cde,erty] is passed on to the python function output should come as [2,3,4]\n",
    "# Here 2,3 and 4 are the lengths of the words in the list."
   ]
  },
  {
   "cell_type": "code",
   "execution_count": 12,
   "metadata": {},
   "outputs": [
    {
     "data": {
      "text/plain": [
       "[2, 3, 4, 1, 3]"
      ]
     },
     "execution_count": 12,
     "metadata": {},
     "output_type": "execute_result"
    }
   ],
   "source": [
    "# This function takes a word and returns the length of the word\n",
    "def len_of_words(in_word):\n",
    "    return len(in_word)\n",
    "\n",
    "list_of_words = ['ab','cde','erty','a','abc']\n",
    "\n",
    "# Using the map function, find out the length of each word in the list passed\n",
    "list(map(len_of_words,list_of_words))"
   ]
  },
  {
   "cell_type": "markdown",
   "metadata": {},
   "source": [
    "# Task 2.2.2 - Write a Python function which takes a character (i.e. a string of length 1) and returns True if it is a vowel, False otherwise."
   ]
  },
  {
   "cell_type": "code",
   "execution_count": 13,
   "metadata": {},
   "outputs": [
    {
     "name": "stdout",
     "output_type": "stream",
     "text": [
      "Enter an Alphabet: a\n"
     ]
    },
    {
     "data": {
      "text/plain": [
       "True"
      ]
     },
     "execution_count": 13,
     "metadata": {},
     "output_type": "execute_result"
    }
   ],
   "source": [
    "# This function takes a character and returns True, if the character exists in the list of Vowels defined in the function\n",
    "def is_vowel(in_char):\n",
    "    vowels = ['a','e','i','o','u']\n",
    "    for i in vowels:\n",
    "        if in_char == i:\n",
    "            return True\n",
    "        else:\n",
    "            return False\n",
    "    \n",
    "input_char = input('Enter an Alphabet: ')\n",
    "\n",
    "# Call the function is_vowel() with the Alphabet input by user\n",
    "is_vowel(input_char)"
   ]
  },
  {
   "cell_type": "code",
   "execution_count": null,
   "metadata": {},
   "outputs": [],
   "source": []
  }
 ],
 "metadata": {
  "kernelspec": {
   "display_name": "Python 3",
   "language": "python",
   "name": "python3"
  },
  "language_info": {
   "codemirror_mode": {
    "name": "ipython",
    "version": 3
   },
   "file_extension": ".py",
   "mimetype": "text/x-python",
   "name": "python",
   "nbconvert_exporter": "python",
   "pygments_lexer": "ipython3",
   "version": "3.7.3"
  }
 },
 "nbformat": 4,
 "nbformat_minor": 2
}
