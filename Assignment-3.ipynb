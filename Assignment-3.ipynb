{
 "cells": [
  {
   "cell_type": "markdown",
   "metadata": {},
   "source": [
    "# Task 1.1 - Write a function to compute 5/0 and use try/except to catch the exceptions."
   ]
  },
  {
   "cell_type": "code",
   "execution_count": 1,
   "metadata": {},
   "outputs": [
    {
     "name": "stdout",
     "output_type": "stream",
     "text": [
      "Divide by Zero is not allowed. Make sure denominator is a non-zero value.\n"
     ]
    }
   ],
   "source": [
    "# This function handles the Divide-By-Zero exception\n",
    "\n",
    "def div_by_zero():\n",
    "    try:\n",
    "        val = 5/0\n",
    "    except:\n",
    "        print('Divide by Zero is not allowed. Make sure denominator is a non-zero value.')\n",
    "\n",
    "div_by_zero()"
   ]
  },
  {
   "cell_type": "markdown",
   "metadata": {},
   "source": [
    "# Task 1.2 - Implement a Python program to generate all sentences where subject is in [\"Americans\",\"Indians\"] and verb is in [\"Play\", \"watch\"] and the object is in [\"Baseball\",\"cricket\"].\n",
    "\n",
    "Hint: Subject,Verb and Object should be declared in the program as shown below.\n",
    "\n",
    "subjects=[\"Americans\",\"Indians\"]\n",
    "\n",
    "verbs=[\"play\",\"watch\"]\n",
    "\n",
    "objects=[\"Baseball\",\"Cricket\"]\n",
    "\n",
    "# Output should come as below:\n",
    "\n",
    "Americans play Baseball.\n",
    "\n",
    "Americans play Cricket.\n",
    "\n",
    "Americans watch Baseball.\n",
    "\n",
    "Americans watch Cricket.\n",
    "\n",
    "Indians play Baseball.\n",
    "\n",
    "Indians play Cricket.\n",
    "\n",
    "Indians watch Baseball.\n",
    "\n",
    "Indians watch Cricket."
   ]
  },
  {
   "cell_type": "code",
   "execution_count": 2,
   "metadata": {},
   "outputs": [
    {
     "name": "stdout",
     "output_type": "stream",
     "text": [
      "Americans play Baseball\n",
      "Americans play Cricket\n",
      "Americans watch Baseball\n",
      "Americans watch Cricket\n",
      "Indians play Baseball\n",
      "Indians play Cricket\n",
      "Indians watch Baseball\n",
      "Indians watch Cricket\n"
     ]
    }
   ],
   "source": [
    "# This program constructs the statements from the 3 lists (subjects, verbs and objects)\n",
    "\n",
    "subjects = [\"Americans\",\"Indians\"]\n",
    "verbs = [\"play\",\"watch\"]\n",
    "objects = [\"Baseball\",\"Cricket\"]\n",
    "\n",
    "for s in subjects:\n",
    "    for v in verbs:\n",
    "        for o in objects:\n",
    "            print(s + ' ' + v + ' ' + o)"
   ]
  },
  {
   "cell_type": "markdown",
   "metadata": {},
   "source": [
    "# Task 2.1 - Write a function so that the columns of the output matrix are powers of the input vector.\n",
    "# The order of the powers is determined by the increasing boolean argument. Specifically, when increasing is False, the i-th output column is the input vector raised element-wise to the power of N - i - 1.\n",
    "HINT: Such a matrix with a geometric progression in each row is named for Alexandre-Theophile Vandermonde."
   ]
  },
  {
   "cell_type": "code",
   "execution_count": 3,
   "metadata": {},
   "outputs": [
    {
     "name": "stdout",
     "output_type": "stream",
     "text": [
      "Enter the Matrix Size below\n",
      "No of Rows: 5\n",
      "No of Columns: 4\n",
      "\n",
      "Vander Matrix with the increasing order of Powers\n",
      "[[1, 1, 1, 1], [1, 2, 4, 8], [1, 3, 9, 27], [1, 4, 16, 64], [1, 5, 25, 125]]\n",
      "\n",
      "Vander Matrix with the decreasing order of Powers\n",
      "[[1, 1, 1, 1], [8, 4, 2, 1], [27, 9, 3, 1], [64, 16, 4, 1], [125, 25, 5, 1]]\n"
     ]
    }
   ],
   "source": [
    "# This function creates the Vander Matrix for the input vector passed and the no of columns\n",
    "# This also creates this Vander Matrix either in the increasing powers or decreasing powers depending on the boolean paramter passed\n",
    "\n",
    "def vander_matrix_func(in_vect,powers,increasing=True):\n",
    "    if increasing:\n",
    "        vander_matrix = [[((i)**(j)) for j in range(powers)] for i in in_vect]\n",
    "    else:\n",
    "        vander_matrix = [[((i)**(powers-j-1)) for j in range(powers)] for i in in_vect]\n",
    "    return vander_matrix\n",
    "\n",
    "# User inputs the size of the matrix expected\n",
    "print('Enter the Matrix Size below')\n",
    "no_of_rows = int(input('No of Rows: '))\n",
    "no_of_cols = int(input('No of Columns: '))\n",
    "\n",
    "input_vector = range(1,no_of_rows+1)\n",
    "\n",
    "# Displays the Vander Matrix in the increasing order of powers\n",
    "out_matrix = vander_matrix_func(input_vector,no_of_cols,True)\n",
    "print('\\nVander Matrix with the increasing order of Powers')\n",
    "print(out_matrix)\n",
    "\n",
    "# Displays the Vander Matrix in the decreasing order of powers\n",
    "out_matrix = vander_matrix_func(input_vector,no_of_cols,False)\n",
    "print('\\nVander Matrix with the decreasing order of Powers')\n",
    "print(out_matrix)"
   ]
  },
  {
   "cell_type": "code",
   "execution_count": null,
   "metadata": {},
   "outputs": [],
   "source": []
  }
 ],
 "metadata": {
  "kernelspec": {
   "display_name": "Python 3",
   "language": "python",
   "name": "python3"
  },
  "language_info": {
   "codemirror_mode": {
    "name": "ipython",
    "version": 3
   },
   "file_extension": ".py",
   "mimetype": "text/x-python",
   "name": "python",
   "nbconvert_exporter": "python",
   "pygments_lexer": "ipython3",
   "version": "3.7.3"
  }
 },
 "nbformat": 4,
 "nbformat_minor": 2
}
